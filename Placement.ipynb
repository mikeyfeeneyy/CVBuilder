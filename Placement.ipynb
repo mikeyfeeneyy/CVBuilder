{
 "cells": [
  {
   "cell_type": "code",
   "execution_count": null,
   "id": "063b2603",
   "metadata": {},
   "outputs": [],
   "source": [
    "SAVE_FILE = \"data/savefile.txt\""
   ]
  },
  {
   "cell_type": "code",
   "execution_count": null,
   "id": "e62cab96",
   "metadata": {},
   "outputs": [],
   "source": [
    "with open(SAVE_FILE) as sf:\n",
    "    data = sf.readlines()"
   ]
  },
  {
   "cell_type": "code",
   "execution_count": null,
   "id": "95c472eb",
   "metadata": {},
   "outputs": [],
   "source": [
    "data"
   ]
  },
  {
   "cell_type": "code",
   "execution_count": null,
   "id": "b6abd52f",
   "metadata": {},
   "outputs": [],
   "source": [
    "for row in data:\n",
    "    name, score = row.strip().split(\"|\")\n",
    "    print(score, name)"
   ]
  },
  {
   "cell_type": "code",
   "execution_count": null,
   "id": "db3a0ab9",
   "metadata": {},
   "outputs": [],
   "source": [
    "scores = []\n",
    "for row in data:\n",
    "    name, score = row.strip().split(\"|\")\n",
    "    scores.append(f\"{score} {name}\")"
   ]
  },
  {
   "cell_type": "code",
   "execution_count": null,
   "id": "a8ea3700",
   "metadata": {},
   "outputs": [],
   "source": [
    "scores"
   ]
  },
  {
   "cell_type": "code",
   "execution_count": null,
   "id": "9fae10dd",
   "metadata": {},
   "outputs": [],
   "source": [
    "ordered = sorted(scores, reverse=True)"
   ]
  },
  {
   "cell_type": "code",
   "execution_count": null,
   "id": "91522331",
   "metadata": {},
   "outputs": [],
   "source": [
    "ordered[:5]"
   ]
  },
  {
   "cell_type": "code",
   "execution_count": null,
   "id": "e97b9478",
   "metadata": {},
   "outputs": [],
   "source": [
    "ordered[:10]"
   ]
  },
  {
   "cell_type": "code",
   "execution_count": null,
   "id": "1e12826c",
   "metadata": {},
   "outputs": [],
   "source": [
    "adams = 65\n",
    "adamn = \"Adam\""
   ]
  },
  {
   "cell_type": "code",
   "execution_count": null,
   "id": "6a138db7",
   "metadata": {},
   "outputs": [],
   "source": [
    "print(dir(ordered))"
   ]
  },
  {
   "cell_type": "code",
   "execution_count": null,
   "id": "83756f8c",
   "metadata": {},
   "outputs": [],
   "source": [
    "ordered.index?"
   ]
  },
  {
   "cell_type": "code",
   "execution_count": null,
   "id": "8ffe84ef",
   "metadata": {},
   "outputs": [],
   "source": [
    "f\"{adams} {adamn}\""
   ]
  },
  {
   "cell_type": "code",
   "execution_count": null,
   "id": "e9738343",
   "metadata": {},
   "outputs": [],
   "source": [
    "ordered.index(f\"{adams} {adamn}\")"
   ]
  },
  {
   "cell_type": "code",
   "execution_count": null,
   "id": "8e86f067",
   "metadata": {},
   "outputs": [],
   "source": [
    "ordered"
   ]
  },
  {
   "cell_type": "code",
   "execution_count": null,
   "id": "1fcbe53b",
   "metadata": {},
   "outputs": [],
   "source": [
    "ordered.index(f\"{adams} {adamn}\")+1"
   ]
  },
  {
   "cell_type": "code",
   "execution_count": null,
   "id": "aa126b81",
   "metadata": {},
   "outputs": [],
   "source": []
  }
 ],
 "metadata": {
  "kernelspec": {
   "display_name": "Python 3 (ipykernel)",
   "language": "python",
   "name": "python3"
  },
  "language_info": {
   "codemirror_mode": {
    "name": "ipython",
    "version": 3
   },
   "file_extension": ".py",
   "mimetype": "text/x-python",
   "name": "python",
   "nbconvert_exporter": "python",
   "pygments_lexer": "ipython3",
   "version": "3.9.7"
  }
 },
 "nbformat": 4,
 "nbformat_minor": 5
}
