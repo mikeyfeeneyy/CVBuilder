{
 "cells": [
  {
   "cell_type": "code",
   "execution_count": null,
   "id": "19a53b16",
   "metadata": {},
   "outputs": [],
   "source": [
    "import DBcm"
   ]
  },
  {
   "cell_type": "code",
   "execution_count": null,
   "id": "f76f534f",
   "metadata": {},
   "outputs": [],
   "source": [
    "config = {\n",
    "    'host': '127.0.0.1',\n",
    "    'database': 'leaderDB',\n",
    "    'user': 'leader',\n",
    "    'password': 'leaderpasswd',\n",
    "}"
   ]
  },
  {
   "cell_type": "code",
   "execution_count": null,
   "id": "dfd04ad1",
   "metadata": {},
   "outputs": [],
   "source": [
    "data = [\n",
    "    ('Joe', 55 ),\n",
    "    ('Julie', 120),\n",
    "    ('Paddy', 3)\n",
    "]\n",
    "data"
   ]
  },
  {
   "cell_type": "code",
   "execution_count": null,
   "id": "7a33815e",
   "metadata": {},
   "outputs": [],
   "source": [
    "SQL = \"insert into scores (player, points) values ( %s, %s )\"  # %s is a place-holder"
   ]
  },
  {
   "cell_type": "code",
   "execution_count": null,
   "id": "800185fc",
   "metadata": {},
   "outputs": [],
   "source": [
    "with DBcm.UseDatabase(config) as db:\n",
    "    db.executemany(SQL, data)"
   ]
  },
  {
   "cell_type": "code",
   "execution_count": null,
   "id": "0fdc9f21",
   "metadata": {},
   "outputs": [],
   "source": [
    "with DBcm.UseDatabase(config) as db:\n",
    "    SQL = \"select * from scores\"\n",
    "    db.execute(SQL)\n",
    "    results = db.fetchall()\n",
    "\n",
    "results"
   ]
  },
  {
   "cell_type": "code",
   "execution_count": null,
   "id": "ba3667d7",
   "metadata": {},
   "outputs": [],
   "source": [
    "with DBcm.UseDatabase(config) as db:\n",
    "    SQL = \"select player, points from scores\"\n",
    "    db.execute(SQL)\n",
    "    results = db.fetchall()\n",
    "\n",
    "results"
   ]
  },
  {
   "cell_type": "code",
   "execution_count": null,
   "id": "9ac9c433",
   "metadata": {},
   "outputs": [],
   "source": [
    "with DBcm.UseDatabase(config) as db:\n",
    "    SQL = \"select * from scores\"\n",
    "    db.execute(SQL)\n",
    "    results = db.fetchall()"
   ]
  },
  {
   "cell_type": "code",
   "execution_count": null,
   "id": "e967f0ba",
   "metadata": {},
   "outputs": [],
   "source": [
    "results"
   ]
  },
  {
   "cell_type": "code",
   "execution_count": null,
   "id": "4bea62ea",
   "metadata": {},
   "outputs": [],
   "source": [
    "SQL = \"insert into scores (player, points) values ('John', 50)\""
   ]
  },
  {
   "cell_type": "code",
   "execution_count": null,
   "id": "3f59acfd",
   "metadata": {},
   "outputs": [],
   "source": [
    "with DBcm.UseDatabase(config) as db:\n",
    "    db.execute(SQL)"
   ]
  },
  {
   "cell_type": "code",
   "execution_count": null,
   "id": "525a82e0",
   "metadata": {},
   "outputs": [],
   "source": [
    "type(results)"
   ]
  },
  {
   "cell_type": "code",
   "execution_count": null,
   "id": "96601220",
   "metadata": {},
   "outputs": [],
   "source": [
    "results"
   ]
  },
  {
   "cell_type": "code",
   "execution_count": null,
   "id": "cfe517d6",
   "metadata": {},
   "outputs": [],
   "source": [
    "type(results[0])"
   ]
  },
  {
   "cell_type": "code",
   "execution_count": null,
   "id": "7f1898a0",
   "metadata": {},
   "outputs": [],
   "source": [
    "for row in results:\n",
    "    print(row)"
   ]
  },
  {
   "cell_type": "code",
   "execution_count": null,
   "id": "ba1fbe57",
   "metadata": {},
   "outputs": [],
   "source": []
  }
 ],
 "metadata": {
  "kernelspec": {
   "display_name": "Python 3 (ipykernel)",
   "language": "python",
   "name": "python3"
  },
  "language_info": {
   "codemirror_mode": {
    "name": "ipython",
    "version": 3
   },
   "file_extension": ".py",
   "mimetype": "text/x-python",
   "name": "python",
   "nbconvert_exporter": "python",
   "pygments_lexer": "ipython3",
   "version": "3.9.7"
  }
 },
 "nbformat": 4,
 "nbformat_minor": 5
}
